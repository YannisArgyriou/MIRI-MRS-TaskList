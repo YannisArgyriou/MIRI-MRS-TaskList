{
 "cells": [
  {
   "cell_type": "markdown",
   "metadata": {},
   "source": [
    "# Modeling the optical interference caused by the MIRI detectors"
   ]
  },
  {
   "cell_type": "markdown",
   "metadata": {},
   "source": [
    "## > Import modules"
   ]
  },
  {
   "cell_type": "code",
   "execution_count": 1,
   "metadata": {
    "collapsed": false
   },
   "outputs": [],
   "source": [
    "import funcs\n",
    "import mrsobs\n",
    "\n",
    "import numpy as np\n",
    "from astropy.io import fits\n",
    "from matplotlib import pyplot as plt\n",
    "%matplotlib notebook\n",
    "\n",
    "import warnings\n",
    "warnings.simplefilter('ignore')"
   ]
  },
  {
   "cell_type": "markdown",
   "metadata": {},
   "source": [
    "## > Get data\n",
    "We load the images for one band of the MRS for different kinds of sources, including: \n",
    "* MTS 800K BB extended source\n",
    "* MTS 800K BB extended source observed through etalon \"ET1A\"\n",
    "* MTS 800K BB extended source observed through 100micron pinhole \n",
    "  \n",
    "Additionally the pixel-to-wavelength calibration map and the pixel-to-along-slice position map are imported."
   ]
  },
  {
   "cell_type": "code",
   "execution_count": 2,
   "metadata": {
    "collapsed": false
   },
   "outputs": [],
   "source": [
    "# Define paths to data\n",
    "workDir   = '/Users/ioannisa/Desktop/python/miri_devel/'\n",
    "cdpDir    = workDir+'cdp_data/'\n",
    "d2cMapDir = workDir+'distortionMaps/'\n",
    "lvl2path  = workDir+'FM_data/LVL2/'\n",
    "\n",
    "# Get data\n",
    "band = '1A'\n",
    "ext_source_sci,ext_source_bkg           = mrsobs.FM_MTS_BB_extended_source(lvl2path,band,bb_temp='800K')\n",
    "ext_etal_source_sci,ext_etal_source_bkg = mrsobs.FM_MTS_800K_BB_extended_source_through_etalon(lvl2path,band,etalon='ET1A')\n",
    "point_source_sci_p1,point_source_bkg_p1 = mrsobs.FM_MTS_800K_BB_point_source_raster(lvl2path,position='middle',pointing='P1')\n",
    "\n",
    "# Get wavelength calibration pixel map\n",
    "d2cMaps   = funcs.load_obj('d2cMaps_band{}'.format(band),path=d2cMapDir)\n",
    "lambdaMap = d2cMaps['lambdaMap']\n",
    "lambdaMap[lambdaMap==0] = np.nan\n",
    "alphaMap = d2cMaps['alphaMap']\n",
    "nslices   = d2cMaps['nslices']"
   ]
  },
  {
   "cell_type": "markdown",
   "metadata": {},
   "source": [
    "## > Transform data\n",
    "We subtract background exposures where available"
   ]
  },
  {
   "cell_type": "code",
   "execution_count": 3,
   "metadata": {
    "collapsed": false
   },
   "outputs": [],
   "source": [
    "# perform transform\n",
    "ext_source_bkgsubtr      = ext_source_sci-ext_source_bkg\n",
    "ext_etal_source_bkgsubtr = ext_etal_source_sci-ext_etal_source_bkg\n",
    "point_source_p1_bkgsubtr = point_source_sci_p1-point_source_bkg_p1"
   ]
  },
  {
   "cell_type": "markdown",
   "metadata": {},
   "source": [
    "We perform an even-odd row signal correction to the data (caused by the read-out pattern of MIRI detector pixel rows)"
   ]
  },
  {
   "cell_type": "code",
   "execution_count": 4,
   "metadata": {
    "collapsed": false
   },
   "outputs": [],
   "source": [
    "ext_source_oddevencorr      = funcs.OddEvenRowSignalCorrection(ext_source_bkgsubtr)\n",
    "ext_etal_source_oddevencorr = funcs.OddEvenRowSignalCorrection(ext_etal_source_bkgsubtr)\n",
    "point_source_p1_oddevencorr = funcs.OddEvenRowSignalCorrection(point_source_p1_bkgsubtr)"
   ]
  },
  {
   "cell_type": "markdown",
   "metadata": {},
   "source": [
    "## > Modeling"
   ]
  },
  {
   "cell_type": "code",
   "execution_count": null,
   "metadata": {
    "collapsed": true
   },
   "outputs": [],
   "source": []
  },
  {
   "cell_type": "markdown",
   "metadata": {},
   "source": [
    "## Conclusions:  \n",
    "\n",
    "  \n",
    "## Follow-up question:  \n"
   ]
  },
  {
   "cell_type": "code",
   "execution_count": null,
   "metadata": {
    "collapsed": true
   },
   "outputs": [],
   "source": []
  }
 ],
 "metadata": {
  "kernelspec": {
   "display_name": "Python 2",
   "language": "python",
   "name": "python2"
  },
  "language_info": {
   "codemirror_mode": {
    "name": "ipython",
    "version": 2
   },
   "file_extension": ".py",
   "mimetype": "text/x-python",
   "name": "python",
   "nbconvert_exporter": "python",
   "pygments_lexer": "ipython2",
   "version": "2.7.13"
  }
 },
 "nbformat": 4,
 "nbformat_minor": 2
}
